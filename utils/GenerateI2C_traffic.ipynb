{
 "cells": [
  {
   "cell_type": "code",
   "execution_count": 98,
   "id": "a49aeab9-e4df-495d-bb32-276e8f9cdbcf",
   "metadata": {},
   "outputs": [
    {
     "name": "stdout",
     "output_type": "stream",
     "text": [
      "SDA size=1109 SCL ticks=28\n",
      "11110000000000000000000000000111111111111111111111111111111111111111100000000000000000000000000000000000000001111111111111111111111111111111111111111000000000000000000000000000000000000000011111111111111111111111111111111111111110000000000000000000000000000000000000000111111111111111111111111111111111111111100000000000000000000000000000000000000000000000000000000000000000000000000000000111111111111111111111111111111111111111100000000000000000000000000000000000000001111111111111111111111111111111111111111000000000000000000000000000000000000000011111111111111111111111111111111111111110000000000000000000000000000000000000000111111111111111111111111111111111111111100000000000000000000000000000000000000000000000000000000000000000000000000000000111111111111111111111111111111111111111100000000000000000000000000000000000000001111111111111111111111111111111111111111000000000000000000000000000000000000000011111111111111111111111111111111111111110000000000000000000000000000000000000000111111111111111111111111111111111111111100000000000000000000000000000000000000000000000000000000000000000000000000000000000000000000000011111111111111111111111111111111111111111111111111111111111111\n",
      "SCL\n",
      "1111111111111111111100000000000000000000111111111111111111110000000000000000000011111111111111111111000000000000000000001111111111111111111100000000000000000000111111111111111111110000000000000000000011111111111111111111000000000000000000001111111111111111111100000000000000000000111111111111111111110000000000000000000011111111111111111111000000000000000000001111111111111111111100000000000000000000111111111111111111110000000000000000000011111111111111111111000000000000000000001111111111111111111100000000000000000000111111111111111111110000000000000000000011111111111111111111000000000000000000001111111111111111111100000000000000000000111111111111111111110000000000000000000011111111111111111111000000000000000000001111111111111111111100000000000000000000111111111111111111110000000000000000000011111111111111111111000000000000000000001111111111111111111100000000000000000000111111111111111111110000000000000000000011111111111111111111000000000000000000001111111111111111111100000000000000000000111111111111111111110000000000000000000011111111111111111111000000000000000000001111111111111111111100000000000000000000111111111111111111111111111111111111111111111111111111111111111111111111111111\n"
     ]
    }
   ],
   "source": [
    "#generate i2c bus traffic for developing i2c slave\n",
    "\n",
    "import math\n",
    "\n",
    "SDA_stream=\"\"\n",
    "SCL_stream=\"\"\n",
    "\n",
    "#timing in ns for 100khz i2c\n",
    "TimeBit=250 # time for one bit in ns\n",
    "TimeRise=1000\n",
    "TimeFall=300\n",
    "TimeHigh=4000\n",
    "TimeLow=4700\n",
    "TimeStart=4000 # start and stop bit timing\n",
    "\n",
    "#DeviceAddress=int('0110000',2)\n",
    "DeviceAddress=int('1010101',2)\n",
    "\n",
    "# print bits scaled and stuffed for SDA\n",
    "def scalebits(number,width,stuffing):\n",
    "    ss=\"\"\n",
    "    s=format(number, '#010b')[2:]\n",
    "    front=stuffing//2\n",
    "    back=stuffing-front\n",
    "    # front and back is where you want to insert noise to test quality reading with noisy line\n",
    "    for x in s:       # print out all bits \n",
    "        ss+=x*front\n",
    "        ss+=x*width  #scaling each bit to fit correctly\n",
    "        ss+=x*back\n",
    "    return ss\n",
    "    \n",
    "\n",
    "# write to one register.\n",
    "def writeone(RegAdr,Data):\n",
    "    string=\"\"\n",
    "    width=(TimeHigh//TimeBit)+(TimeLow//TimeBit)\n",
    "    totalwidth=((TimeRise+TimeHigh)//TimeBit)+((TimeFall+TimeLow)//TimeBit)\n",
    "    #print(width,totalwidth)\n",
    "    offset=(TimeLow//TimeBit)//2\n",
    "    # construct lead in \n",
    "    string+=str('1')*((TimeFall+TimeLow)//TimeBit-TimeHigh//TimeBit) # leadin time while SCL is inactive\n",
    "    string+=str('0')*(TimeHigh//TimeBit) #This marks S\n",
    "    string+=str('0')*offset\n",
    "    # now construct device address data R/W = 0\n",
    "    string+=scalebits(DeviceAddress<<1,width,totalwidth-width)\n",
    "    #artificial ack\n",
    "    string+=str('0')*totalwidth\n",
    "    #write register address\n",
    "    string+=scalebits(RegAdr,width,totalwidth-width)\n",
    "    #artificial ack\n",
    "    string+=str('0')*totalwidth\n",
    "    #write data\n",
    "    string+=scalebits(Data,width,totalwidth-width)\n",
    "    #artificial ack\n",
    "    string+=str('0')*totalwidth\n",
    "    return string\n",
    "    \n",
    "#generate SCL by time settings\n",
    "def genSCLtime(length):\n",
    "    b=1\n",
    "    string=\"\"\n",
    "    for i in range(0,length):\n",
    "        string+=str('1')*((TimeRise+TimeHigh)//TimeBit)+str('0')*((TimeFall+TimeLow)//TimeBit)\n",
    "    return string\n",
    "\n",
    "# generate P at end of a session\n",
    "def genP():\n",
    "    sda=str('0')*(TimeHigh//TimeBit)\n",
    "    sda+=str('1')*(TimeLow//TimeBit)\n",
    "    scl=str('1')*((TimeHigh+TimeLow)//TimeBit)\n",
    "    return sda,scl\n",
    "\n",
    "#leadin for both SCL and SDA\n",
    "#SCL_stream=str('1')*44\n",
    "#SDA_stream=str('1')*44\n",
    "# genereate test signals\n",
    "SDA_stream+=writeone(0b10101010,0b10101010)\n",
    "\n",
    "SDA_size=len(SDA_stream)\n",
    "SCL_ticks=math.ceil(SDA_size/((TimeRise+TimeFall+TimeHigh+TimeLow)//TimeBit))\n",
    "SCL_stream+=genSCLtime(SCL_ticks)\n",
    "\n",
    "# end with P\n",
    "SDA_t,SCL_t=genP()\n",
    "SDA_stream+=SDA_t\n",
    "SCL_stream+=SCL_t\n",
    "\n",
    "\n",
    "\n",
    "#lead out for SCL and SDA\n",
    "SCL_stream+=str('1')*44\n",
    "SDA_stream+=str('1')*44\n",
    "\n",
    "print(\"SDA size=\"+str(SDA_size)+\" SCL ticks=\"+str(SCL_ticks))\n",
    "\n",
    "print(SDA_stream)\n",
    "print(\"SCL\")\n",
    "\n",
    "print(SCL_stream)"
   ]
  },
  {
   "cell_type": "code",
   "execution_count": 90,
   "id": "f26dacdb-a46f-45dc-b7f3-ca65d156ebb9",
   "metadata": {},
   "outputs": [
    {
     "name": "stdout",
     "output_type": "stream",
     "text": [
      "('0000000000000000111111111111111111', '1111111111111111111111111111111111')\n"
     ]
    }
   ],
   "source": [
    "SDA=\"\"\n",
    "SCL=\"\"\n",
    "def genP():\n",
    "    sda=str('0')*(TimeHigh//TimeBit)\n",
    "    sda+=str('1')*(TimeLow//TimeBit)\n",
    "    scl=str('1')*((TimeHigh+TimeLow)//TimeBit)\n",
    "    return sda,scl\n",
    "print(genP())"
   ]
  },
  {
   "cell_type": "code",
   "execution_count": null,
   "id": "9794e532-006a-46e3-8db7-4e8d148da5d8",
   "metadata": {},
   "outputs": [],
   "source": []
  }
 ],
 "metadata": {
  "kernelspec": {
   "display_name": "Python 3",
   "language": "python",
   "name": "python3"
  },
  "language_info": {
   "codemirror_mode": {
    "name": "ipython",
    "version": 3
   },
   "file_extension": ".py",
   "mimetype": "text/x-python",
   "name": "python",
   "nbconvert_exporter": "python",
   "pygments_lexer": "ipython3",
   "version": "3.6.9"
  }
 },
 "nbformat": 4,
 "nbformat_minor": 5
}
