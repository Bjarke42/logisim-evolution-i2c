{
 "cells": [
  {
   "cell_type": "code",
   "execution_count": 39,
   "id": "a49aeab9-e4df-495d-bb32-276e8f9cdbcf",
   "metadata": {},
   "outputs": [
    {
     "name": "stdout",
     "output_type": "stream",
     "text": [
      "34\n",
      "000000000_01100000\n",
      "1111111111111111111100000000000000000000111111111111111111110000000000000000000011111111111111111111000000000000000000001111111111111111111100000000000000000000\n"
     ]
    }
   ],
   "source": [
    "#generate i2c bus traffic for developing i2c slave\n",
    "\n",
    "SDA_stream=[]\n",
    "SCL_stream=[]\n",
    "\n",
    "#timing in ns for 100khz i2c\n",
    "TimeBit=250 # time for one bit in ns\n",
    "TimeRise=1000\n",
    "TimeFall=300\n",
    "TimeHigh=4000\n",
    "TimeLow=4700\n",
    "TimeStart=4000 # start and stop bit timing\n",
    "\n",
    "#https://stackoverflow.com/questions/32284940/python-bit-list-to-byte-list\n",
    "DeviceAddress=int('0110000',2)\n",
    "\n",
    "# start bit\n",
    "def S_bit():\n",
    "    return int('100',2),int('111',2)\n",
    "\n",
    "# stop bit\n",
    "def P_bit():\n",
    "    return int('011',2),int('111',2)\n",
    "\n",
    "# scale number as binary string\n",
    "def scalestr(n):\n",
    "    string=\"\"\n",
    "    width=(TimeHigh//TimeBit)+(TimeLow//TimeBit)\n",
    "    \n",
    "\n",
    "# write to one register. Accepts only numbers\n",
    "def writeone():\n",
    "    string=\"\"\n",
    "    width=(TimeHigh//TimeBit)+(TimeLow//TimeBit)\n",
    "    print(width)\n",
    "    offset=(TimeLow//TimeBit)//2\n",
    "    string+=str('0')*offset\n",
    "    string+=\"_\"\n",
    "    string+=(format(DeviceAddress<<1, '#010b')[2:])\n",
    "    return string\n",
    "    \n",
    "#generate SCL, scale is how many of each \"bit\"\n",
    "#def genSCL(scale,length):\n",
    "#    b=1\n",
    "#    string=\"\"\n",
    "#    for i in range(0,length):\n",
    "#        string+=str(b)*scale\n",
    "#        if b==1:\n",
    "#            b=0\n",
    "#        else:\n",
    "#            b=1\n",
    "#    return string\n",
    "\n",
    "#generate SCL by time settings\n",
    "def genSCLtime(length):\n",
    "    b=1\n",
    "    string=\"\"\n",
    "    for i in range(0,length):\n",
    "        string+=str('1')*((TimeRise+TimeHigh)//TimeBit)+str('0')*((TimeFall+TimeLow)//TimeBit)\n",
    "    return string\n",
    "    \n",
    "    \n",
    "\n",
    "#print(format(5, '#010b')[2:],end=\"\")\n",
    "#print(format(5, '#010b')[2:])\n",
    "\n",
    "print(writeone())\n",
    "print(genSCLtime(4))"
   ]
  },
  {
   "cell_type": "code",
   "execution_count": null,
   "id": "f26dacdb-a46f-45dc-b7f3-ca65d156ebb9",
   "metadata": {},
   "outputs": [],
   "source": []
  }
 ],
 "metadata": {
  "kernelspec": {
   "display_name": "Python 3",
   "language": "python",
   "name": "python3"
  },
  "language_info": {
   "codemirror_mode": {
    "name": "ipython",
    "version": 3
   },
   "file_extension": ".py",
   "mimetype": "text/x-python",
   "name": "python",
   "nbconvert_exporter": "python",
   "pygments_lexer": "ipython3",
   "version": "3.6.9"
  }
 },
 "nbformat": 4,
 "nbformat_minor": 5
}
